{
 "cells": [
  {
   "cell_type": "code",
   "execution_count": null,
   "metadata": {},
   "outputs": [],
   "source": [
    "import pandas as pd\n",
    "\n",
    "%run data.ipynb"
   ]
  },
  {
   "cell_type": "code",
   "execution_count": 1,
   "metadata": {},
   "outputs": [],
   "source": [
    "def skinType(test_df, x):\n",
    "    \n",
    "    match x:\n",
    "        case \"Combination\":\n",
    "            test_df = test_df[test_df.Combination == 1]\n",
    "        case \"Dry\":\n",
    "            test_df = test_df[test_df.Dry == 1]\n",
    "        case \"Normal\":\n",
    "            test_df = test_df[test_df.Normal == 1]\n",
    "        case \"Oily\":\n",
    "            test_df = test_df[test_df.Oily == 1]\n",
    "        case \"Sensitive\":\n",
    "            test_df = test_df[test_df.Sensitive == 1]\n",
    "            \n",
    "    return test_df"
   ]
  },
  {
   "cell_type": "code",
   "execution_count": 2,
   "metadata": {},
   "outputs": [],
   "source": [
    "def allergenFilter (xdd, allergen):\n",
    "    row = 0\n",
    "    list = []\n",
    "    test = xdd\n",
    "    \n",
    "    for row in range (len(xdd)):\n",
    "        list = xdd.Ingredients[row]\n",
    "        for i in list:\n",
    "            if i == allergen:\n",
    "                test = test.drop(row)\n",
    "                break\n",
    "    return test"
   ]
  },
  {
   "cell_type": "code",
   "execution_count": 4,
   "metadata": {},
   "outputs": [],
   "source": [
    "def labelFilter(df, label):\n",
    "    filtered_df = df[df['Label'] == label]\n",
    "    return filtered_df"
   ]
  },
  {
   "cell_type": "code",
   "execution_count": null,
   "metadata": {},
   "outputs": [],
   "source": [
    "def getBrands(df, brand):\n",
    "   list = []\n",
    "   brands = df\n",
    "   row = 0\n",
    "\n",
    "   for row in range (len(brand)):\n",
    "      list = df.Brand[row]\n",
    "      for i in list:\n",
    "         if i != brand:\n",
    "            brands = brands.drop(row)\n",
    "            break\n",
    "   return brands"
   ]
  }
 ],
 "metadata": {
  "kernelspec": {
   "display_name": "Python 3",
   "language": "python",
   "name": "python3"
  },
  "language_info": {
   "codemirror_mode": {
    "name": "ipython",
    "version": 3
   },
   "file_extension": ".py",
   "mimetype": "text/x-python",
   "name": "python",
   "nbconvert_exporter": "python",
   "pygments_lexer": "ipython3",
   "version": "3.11.8"
  }
 },
 "nbformat": 4,
 "nbformat_minor": 2
}
