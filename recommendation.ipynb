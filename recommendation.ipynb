{
 "cells": [
  {
   "cell_type": "code",
   "execution_count": 1,
   "metadata": {},
   "outputs": [],
   "source": [
    "import filterdata\n",
    "\n",
    "from filterdata import recommendation\n"
   ]
  },
  {
   "cell_type": "code",
   "execution_count": 2,
   "metadata": {},
   "outputs": [],
   "source": [
    "def moisturizerRecom(opt_skin_type, opt_products_list, opt_allergies_list, opt_acne):\n",
    "   mRecom = recommendation(\"Moisturizer\", opt_skin_type, opt_products_list, opt_allergies_list, opt_acne)\n",
    "\n",
    "   return mRecom"
   ]
  },
  {
   "cell_type": "code",
   "execution_count": null,
   "metadata": {},
   "outputs": [],
   "source": [
    "def CleanserRecom(opt_skin_type, opt_products_list, opt_allergies_list, opt_acne):\n",
    "   cRecom = recommendation(\"Cleanser\", opt_skin_type, opt_products_list, opt_allergies_list, opt_acne)\n",
    "\n",
    "   return cRecom"
   ]
  },
  {
   "cell_type": "code",
   "execution_count": null,
   "metadata": {},
   "outputs": [],
   "source": [
    "def SunscreenRecom(opt_skin_type, opt_products_list, opt_allergies_list, opt_acne):\n",
    "   sRecom = recommendation(\"Sunscreen\", opt_skin_type, opt_products_list, opt_allergies_list, opt_acne)\n",
    "\n",
    "   return sRecom"
   ]
  },
  {
   "cell_type": "code",
   "execution_count": null,
   "metadata": {},
   "outputs": [],
   "source": [
    "def m(opt_skin_type, opt_products_list, opt_allergies_list, opt_acne):\n",
    "   moisturizer = moisturizerRecom(opt_skin_type, opt_products_list, opt_allergies_list, opt_acne)\n",
    "   first_item_name = moisturizer['Name'].iloc[0]\n",
    "   return first_item_name"
   ]
  }
 ],
 "metadata": {
  "kernelspec": {
   "display_name": "Python 3",
   "language": "python",
   "name": "python3"
  },
  "language_info": {
   "codemirror_mode": {
    "name": "ipython",
    "version": 3
   },
   "file_extension": ".py",
   "mimetype": "text/x-python",
   "name": "python",
   "nbconvert_exporter": "python",
   "pygments_lexer": "ipython3",
   "version": "3.11.8"
  }
 },
 "nbformat": 4,
 "nbformat_minor": 2
}
